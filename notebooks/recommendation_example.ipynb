{
 "cells": [
  {
   "cell_type": "code",
   "execution_count": 1,
   "metadata": {},
   "outputs": [],
   "source": [
    "import pandas as pd\n",
    "import sys\n",
    "import os\n",
    "from pathlib import Path"
   ]
  },
  {
   "cell_type": "code",
   "execution_count": 7,
   "metadata": {},
   "outputs": [],
   "source": [
    "# Get the absolute path to the project root directory\n",
    "notebook_dir = Path(os.getcwd())  # Gets the current working directory\n",
    "project_root = notebook_dir.parent  # Goes up one level to the project root"
   ]
  },
  {
   "cell_type": "code",
   "execution_count": 8,
   "metadata": {},
   "outputs": [],
   "source": [
    "# Add the project root to Python path\n",
    "sys.path.append(str(project_root))"
   ]
  },
  {
   "cell_type": "code",
   "execution_count": 9,
   "metadata": {},
   "outputs": [],
   "source": [
    "# Now you can import from src\n",
    "from src.data.data_processor import DataProcessor\n",
    "from src.models.hybrid.hybrid_recommender import HybridRecommender\n",
    "from src.utils.evaluation import RecommenderEvaluator"
   ]
  },
  {
   "cell_type": "code",
   "execution_count": 11,
   "metadata": {},
   "outputs": [],
   "source": [
    "products_df = pd.read_csv(r'D:\\RS\\Recommendation system\\data\\raw\\product_metadata.csv')\n",
    "interactions_df = pd.read_csv(r'D:\\RS\\Recommendation system\\data\\raw\\user_interactions.csv')"
   ]
  },
  {
   "cell_type": "code",
   "execution_count": 12,
   "metadata": {},
   "outputs": [],
   "source": [
    "# Initialize processor\n",
    "data_processor = DataProcessor()\n"
   ]
  },
  {
   "cell_type": "code",
   "execution_count": 13,
   "metadata": {},
   "outputs": [],
   "source": [
    "# Process data\n",
    "processed_products = data_processor.process_product_data(products_df)\n",
    "processed_interactions = data_processor.process_interaction_data(interactions_df)\n"
   ]
  },
  {
   "cell_type": "code",
   "execution_count": 14,
   "metadata": {},
   "outputs": [],
   "source": [
    "# Create and train hybrid recommender\n",
    "recommender = HybridRecommender()\n",
    "recommender.fit(processed_products, processed_interactions)"
   ]
  },
  {
   "cell_type": "code",
   "execution_count": 15,
   "metadata": {},
   "outputs": [],
   "source": [
    "# Get recommendations for a user\n",
    "user_id = 'user1'\n",
    "item_id = 'item1'\n",
    "recommendations = recommender.recommend(user_id, item_id, n_recommendations=5)"
   ]
  },
  {
   "cell_type": "code",
   "execution_count": 16,
   "metadata": {},
   "outputs": [
    {
     "name": "stdout",
     "output_type": "stream",
     "text": [
      "\n",
      "Top 5 Recommendations:\n",
      "                  name category       style  hybrid_score\n",
      "548        Modern Sofa  Cabinet      Rustic      1.868238\n",
      "392       Modern Chair    Table  Industrial      1.635873\n",
      "1455     Vintage Table      Bed  Industrial      1.562847\n",
      "561   Industrial Chair     Sofa      Rustic      1.562468\n",
      "498         Rustic Bed    Table      Modern      1.556326\n"
     ]
    }
   ],
   "source": [
    "# Display recommendations\n",
    "print(\"\\nTop 5 Recommendations:\")\n",
    "print(recommendations[['name', 'category', 'style', 'hybrid_score']])"
   ]
  },
  {
   "cell_type": "code",
   "execution_count": 17,
   "metadata": {},
   "outputs": [
    {
     "ename": "NameError",
     "evalue": "name 'ContentBasedRecommender' is not defined",
     "output_type": "error",
     "traceback": [
      "\u001b[1;31m---------------------------------------------------------------------------\u001b[0m",
      "\u001b[1;31mNameError\u001b[0m                                 Traceback (most recent call last)",
      "Cell \u001b[1;32mIn[17], line 2\u001b[0m\n\u001b[0;32m      1\u001b[0m \u001b[38;5;66;03m# Initialize content-based recommender\u001b[39;00m\n\u001b[1;32m----> 2\u001b[0m content_recommender \u001b[38;5;241m=\u001b[39m \u001b[43mContentBasedRecommender\u001b[49m()\n\u001b[0;32m      3\u001b[0m content_recommender\u001b[38;5;241m.\u001b[39mfit(processed_products)\n\u001b[0;32m      5\u001b[0m \u001b[38;5;66;03m# If a user likes a modern black leather sofa, it will recommend similar items\u001b[39;00m\n",
      "\u001b[1;31mNameError\u001b[0m: name 'ContentBasedRecommender' is not defined"
     ]
    }
   ],
   "source": [
    "# Initialize content-based recommender\n",
    "content_recommender = ContentBasedRecommender()\n",
    "content_recommender.fit(processed_products)\n",
    "\n",
    "# If a user likes a modern black leather sofa, it will recommend similar items\n",
    "recommendations = content_recommender.recommend(item_id=\"item1\", n_recommendations=5)"
   ]
  },
  {
   "cell_type": "code",
   "execution_count": null,
   "metadata": {},
   "outputs": [],
   "source": [
    "# Initialize collaborative recommender\n",
    "collab_recommender = CollaborativeRecommender()\n",
    "collab_recommender.fit(processed_interactions)\n",
    "\n",
    "# Recommend items based on user behavior\n",
    "user_recommendations = collab_recommender.recommend(\n",
    "    user_id=\"user1\",\n",
    "    all_items=processed_products['item_id'].tolist()\n",
    ")"
   ]
  }
 ],
 "metadata": {
  "kernelspec": {
   "display_name": "base",
   "language": "python",
   "name": "python3"
  },
  "language_info": {
   "codemirror_mode": {
    "name": "ipython",
    "version": 3
   },
   "file_extension": ".py",
   "mimetype": "text/x-python",
   "name": "python",
   "nbconvert_exporter": "python",
   "pygments_lexer": "ipython3",
   "version": "3.12.7"
  }
 },
 "nbformat": 4,
 "nbformat_minor": 2
}
